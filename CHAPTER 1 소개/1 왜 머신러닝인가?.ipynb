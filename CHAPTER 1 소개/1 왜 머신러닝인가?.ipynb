{
 "cells": [
  {
   "cell_type": "markdown",
   "metadata": {},
   "source": [
    "## 1.4 필수 라이브러리와 도구들"
   ]
  },
  {
   "cell_type": "markdown",
   "metadata": {},
   "source": [
    "### 1.4.1 주피터 노트북"
   ]
  },
  {
   "cell_type": "markdown",
   "metadata": {},
   "source": [
    "### 1.4.2 Numpy\n",
    "    http://www.numpy.org\n",
    "    다차원 배열을 위한 기능과 선형 대수 연산과 푸리에 변환 같은 고수준 수학 함수와 유사 난수 생성기를 포함한다."
   ]
  },
  {
   "cell_type": "code",
   "execution_count": 1,
   "metadata": {},
   "outputs": [
    {
     "name": "stdout",
     "output_type": "stream",
     "text": [
      "x:\n",
      " [[1 2 3]\n",
      " [4 5 6]]\n"
     ]
    }
   ],
   "source": [
    "import numpy as np\n",
    "\n",
    "x = np.array([[1,2,3],[4,5,6]])\n",
    "print('x:\\n', x)"
   ]
  },
  {
   "cell_type": "markdown",
   "metadata": {},
   "source": [
    "### 1.4.3 SciPy\n",
    "    https://www.scipy.org/scipylib\n",
    "    고성능 선형 대수, 함수 최적화, 특수한 수학 함수와 통계 분포 등을 포함한 많은 기능을 제공한다.\n",
    "    가장 중요한 기능은 scipy.sparse 이다.\n",
    "    이 모듈은 scikit-learn에서 데이터를 표현하는 또 하나의 방법인 희소 행렬 기능을 제공한다.\n",
    "    희소 행렬(sparse matrix, 희박 행렬)은 0을 많이 포함한 2차원 배열을 저장할 때 사용한다."
   ]
  },
  {
   "cell_type": "code",
   "execution_count": 2,
   "metadata": {},
   "outputs": [
    {
     "name": "stdout",
     "output_type": "stream",
     "text": [
      "Numpy 배열:\n",
      " [[1. 0. 0. 0.]\n",
      " [0. 1. 0. 0.]\n",
      " [0. 0. 1. 0.]\n",
      " [0. 0. 0. 1.]]\n"
     ]
    }
   ],
   "source": [
    "from scipy import sparse\n",
    "\n",
    "# 대각선 원소는 1이고 나머지는 0인 2차원 numpy 배열을 만든다\n",
    "eye = np.eye(4)\n",
    "print('Numpy 배열:\\n', eye)"
   ]
  },
  {
   "cell_type": "code",
   "execution_count": 3,
   "metadata": {},
   "outputs": [
    {
     "name": "stdout",
     "output_type": "stream",
     "text": [
      "SciPy의 CSR 행렬:\n",
      "   (0, 0)\t1.0\n",
      "  (1, 1)\t1.0\n",
      "  (2, 2)\t1.0\n",
      "  (3, 3)\t1.0\n"
     ]
    }
   ],
   "source": [
    "# NumPy 배열을 CSR 포맷의 SciPy 희박 행렬로 변환한다.\n",
    "# 0이 아닌 원소만 저장된다.\n",
    "sparse_matrix = sparse.csr_matrix(eye)\n",
    "print('SciPy의 CSR 행렬:\\n', sparse_matrix)"
   ]
  },
  {
   "cell_type": "markdown",
   "metadata": {},
   "source": [
    "    보통 희소 행렬을 0이 모두 채워진 2차원 배열로부터 만들지 않으므로(메모리가 부족할 수 있어서)\n",
    "    희소 행렬을 직접 만들 수 있어야 한다.\n",
    "    COO 포맷을 이용해서 앞서와 동일한 희소 행렬르 만드는 예제이다."
   ]
  },
  {
   "cell_type": "code",
   "execution_count": 6,
   "metadata": {},
   "outputs": [
    {
     "name": "stdout",
     "output_type": "stream",
     "text": [
      "COO 표현:\n",
      "   (0, 0)\t1.0\n",
      "  (1, 1)\t1.0\n",
      "  (2, 2)\t1.0\n",
      "  (3, 3)\t1.0\n"
     ]
    }
   ],
   "source": [
    "data = np.ones(4)\n",
    "row_indices = np.arange(4)\n",
    "col_indicde = np.arange(4)\n",
    "eye_coo = sparse.coo_matrix((data, (row_indices, col_indicde)))\n",
    "print(\"COO 표현:\\n\", eye_coo)"
   ]
  },
  {
   "cell_type": "markdown",
   "metadata": {},
   "source": [
    "### 1.4.4 matplotlib"
   ]
  },
  {
   "cell_type": "code",
   "execution_count": 7,
   "metadata": {},
   "outputs": [
    {
     "data": {
      "text/plain": [
       "[<matplotlib.lines.Line2D at 0x7faa2003b2e0>]"
      ]
     },
     "execution_count": 7,
     "metadata": {},
     "output_type": "execute_result"
    },
    {
     "data": {
      "image/png": "[encoded data removed]",
      "text/plain": [
       "<Figure size 432x288 with 1 Axes>"
      ]
     },
     "metadata": {
      "needs_background": "light"
     },
     "output_type": "display_data"
    }
   ],
   "source": [
    "%matplotlib inline\n",
    "import matplotlib.pyplot as plt\n",
    "\n",
    "# -10에서 10까지 100개의 각격으로 나눠어진 배열을 생성한다.\n",
    "x = np.linspace(-10, 10, 100)\n",
    "# 사인 함수를 사용하여 y 배열을 생성한다.\n",
    "y = np.sin(x)\n",
    "\n",
    "# plot 함수는 한 배열의 값을 다른 배열엘 대응해서 선 그래프를 그린다.\n",
    "plt.plot(x, y, marker='X')"
   ]
  },
  {
   "cell_type": "markdown",
   "metadata": {},
   "source": [
    "### 1.4.5 pandas\n",
    "    전체 배열의 원소가 동일한 타입이어야 하는 NumPy 와는 달리 pandas는 각 열의 타입이 달라도 된다."
   ]
  },
  {
   "cell_type": "code",
   "execution_count": 10,
   "metadata": {},
   "outputs": [
    {
     "data": {
      "text/html": [
       "<div>\n",
       "<style scoped>\n",
       "    .dataframe tbody tr th:only-of-type {\n",
       "        vertical-align: middle;\n",
       "    }\n",
       "\n",
       "    .dataframe tbody tr th {\n",
       "        vertical-align: top;\n",
       "    }\n",
       "\n",
       "    .dataframe thead th {\n",
       "        text-align: right;\n",
       "    }\n",
       "</style>\n",
       "<table border=\"1\" class=\"dataframe\">\n",
       "  <thead>\n",
       "    <tr style=\"text-align: right;\">\n",
       "      <th></th>\n",
       "      <th>Name</th>\n",
       "      <th>Location</th>\n",
       "      <th>Age</th>\n",
       "    </tr>\n",
       "  </thead>\n",
       "  <tbody>\n",
       "    <tr>\n",
       "      <th>0</th>\n",
       "      <td>John</td>\n",
       "      <td>New York</td>\n",
       "      <td>24</td>\n",
       "    </tr>\n",
       "    <tr>\n",
       "      <th>1</th>\n",
       "      <td>Anna</td>\n",
       "      <td>Paris</td>\n",
       "      <td>13</td>\n",
       "    </tr>\n",
       "    <tr>\n",
       "      <th>2</th>\n",
       "      <td>Peter</td>\n",
       "      <td>Berlin</td>\n",
       "      <td>53</td>\n",
       "    </tr>\n",
       "    <tr>\n",
       "      <th>3</th>\n",
       "      <td>Linda</td>\n",
       "      <td>London</td>\n",
       "      <td>33</td>\n",
       "    </tr>\n",
       "  </tbody>\n",
       "</table>\n",
       "</div>"
      ],
      "text/plain": [
       "    Name  Location  Age\n",
       "0   John  New York   24\n",
       "1   Anna     Paris   13\n",
       "2  Peter    Berlin   53\n",
       "3  Linda    London   33"
      ]
     },
     "metadata": {},
     "output_type": "display_data"
    }
   ],
   "source": [
    "import pandas as pd\n",
    "\n",
    "# 회원 정보가 들어간 데이터셋을 생성한다.\n",
    "data = {'Name': ['John', 'Anna', 'Peter', 'Linda'],\n",
    "        'Location': ['New York', 'Paris', 'Berlin', 'London'],\n",
    "        'Age': [24, 13, 53, 33]}\n",
    "\n",
    "data_pandas = pd.DataFrame(data)\n",
    "\n",
    "# 주피터 노트북에서 DataFrame을 미려하게 출력해준다.\n",
    "display(data_pandas)"
   ]
  },
  {
   "cell_type": "code",
   "execution_count": 11,
   "metadata": {},
   "outputs": [
    {
     "data": {
      "text/html": [
       "<div>\n",
       "<style scoped>\n",
       "    .dataframe tbody tr th:only-of-type {\n",
       "        vertical-align: middle;\n",
       "    }\n",
       "\n",
       "    .dataframe tbody tr th {\n",
       "        vertical-align: top;\n",
       "    }\n",
       "\n",
       "    .dataframe thead th {\n",
       "        text-align: right;\n",
       "    }\n",
       "</style>\n",
       "<table border=\"1\" class=\"dataframe\">\n",
       "  <thead>\n",
       "    <tr style=\"text-align: right;\">\n",
       "      <th></th>\n",
       "      <th>Name</th>\n",
       "      <th>Location</th>\n",
       "      <th>Age</th>\n",
       "    </tr>\n",
       "  </thead>\n",
       "  <tbody>\n",
       "    <tr>\n",
       "      <th>2</th>\n",
       "      <td>Peter</td>\n",
       "      <td>Berlin</td>\n",
       "      <td>53</td>\n",
       "    </tr>\n",
       "    <tr>\n",
       "      <th>3</th>\n",
       "      <td>Linda</td>\n",
       "      <td>London</td>\n",
       "      <td>33</td>\n",
       "    </tr>\n",
       "  </tbody>\n",
       "</table>\n",
       "</div>"
      ],
      "text/plain": [
       "    Name Location  Age\n",
       "2  Peter   Berlin   53\n",
       "3  Linda   London   33"
      ]
     },
     "metadata": {},
     "output_type": "display_data"
    }
   ],
   "source": [
    "# Age 열의 값이 30 이상인 모든 행을 선택한다.\n",
    "display(data_pandas[data_pandas.Age > 30])"
   ]
  },
  {
   "cell_type": "markdown",
   "metadata": {},
   "source": [
    "### 1.4.5 mglearn\n",
    "    그래프나 데이터 적재와 관련한 세세한 코드를 일일이 쓰지 않아도 되게끔 이 책을 위해 만든 유틸리티 함수들"
   ]
  },
  {
   "cell_type": "markdown",
   "metadata": {},
   "source": [
    "## 1.5 파이썬 2 vs. 파이썬 3"
   ]
  },
  {
   "cell_type": "markdown",
   "metadata": {},
   "source": [
    "## 1.6 이 책에서 사용하는 소프트웨어 버전"
   ]
  },
  {
   "cell_type": "code",
   "execution_count": 17,
   "metadata": {},
   "outputs": [
    {
     "name": "stdout",
     "output_type": "stream",
     "text": [
      "Python 버전: 3.8.5 (default, Sep  4 2020, 02:22:02) \n",
      "[Clang 10.0.0 ]\n",
      "pandas 버전: 1.1.3\n",
      "matplotlib 버전: 3.3.2\n",
      "NumPy 버전: 1.19.2\n",
      "SciPy 버전: 1.5.2\n",
      "scikit-learn 버전: 0.23.2\n"
     ]
    }
   ],
   "source": [
    "import sys\n",
    "\n",
    "print('Python 버전:', sys.version)\n",
    "\n",
    "import pandas as pd\n",
    "print('pandas 버전:', pd.__version__)\n",
    "\n",
    "import matplotlib\n",
    "print('matplotlib 버전:', matplotlib.__version__)\n",
    "\n",
    "import numpy as np\n",
    "print('NumPy 버전:', np.__version__)\n",
    "\n",
    "import scipy as sp\n",
    "print('SciPy 버전:', sp.__version__)\n",
    "\n",
    "import sklearn\n",
    "print('scikit-learn 버전:',sklearn.__version__)"
   ]
  },
  {
   "cell_type": "markdown",
   "metadata": {},
   "source": [
    "## 1.7 첫 번째 애플리케이션: 붓꽃의 품종 분류\n",
    "    꽃잎(petal)과 꽃받침(sepal)의 폭과 길이를 센티미터 단위로 측정\n",
    "    setosa, versicolor, virginica 종으로 분류\n",
    "    지도학습\n",
    "    분류 문제(Classification)\n",
    "    출력될 수 있는 값(붓꽃의 종류)들을 class라고 한다.\n",
    "    \n",
    "    데이터 포인트 하나(붓꽃 하나)에 대한 기대 출력은 꽃의 품종이 되며, 이런 특정 데이터 포인트에 대한 출력, 즉 품종을 레이블(label)이라고 한다."
   ]
  },
  {
   "cell_type": "code",
   "execution_count": null,
   "metadata": {},
   "outputs": [],
   "source": []
  }
 ],
 "metadata": {
  "kernelspec": {
   "display_name": "Python 3",
   "language": "python",
   "name": "python3"
  },
  "language_info": {
   "codemirror_mode": {
    "name": "ipython",
    "version": 3
   },
   "file_extension": ".py",
   "mimetype": "text/x-python",
   "name": "python",
   "nbconvert_exporter": "python",
   "pygments_lexer": "ipython3",
   "version": "3.8.5"
  }
 },
 "nbformat": 4,
 "nbformat_minor": 4
}
